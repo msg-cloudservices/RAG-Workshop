{
 "cells": [
  {
   "cell_type": "code",
   "execution_count": 4,
   "metadata": {},
   "outputs": [],
   "source": [
    "import os\n",
    "import glob"
   ]
  },
  {
   "cell_type": "code",
   "execution_count": 7,
   "metadata": {},
   "outputs": [
    {
     "name": "stdout",
     "output_type": "stream",
     "text": [
      "c:\\Users\\bischn\\Documents\\DEVK\\Workshop_code\\RAG-Workshop\\scripts\n"
     ]
    }
   ],
   "source": [
    "cwd = os.getcwd()\n",
    "print(cwd)"
   ]
  },
  {
   "cell_type": "code",
   "execution_count": 8,
   "metadata": {},
   "outputs": [
    {
     "name": "stdout",
     "output_type": "stream",
     "text": [
      "absolute_path: c:\\Users\\bischn\\Documents\\DEVK\\Workshop_code\\RAG-Workshop\\data\n"
     ]
    }
   ],
   "source": [
    "relative_path = \"../data\"\n",
    "absolute_path = os.path.abspath(os.path.join(cwd, relative_path))\n",
    "print(f\"absolute_path: {absolute_path}\")"
   ]
  },
  {
   "cell_type": "code",
   "execution_count": 9,
   "metadata": {},
   "outputs": [
    {
     "name": "stdout",
     "output_type": "stream",
     "text": [
      "file../data\\employee_handbook.pdf\n"
     ]
    }
   ],
   "source": [
    "for file in glob.glob(\"../data/*.pdf\"):\n",
    "        print(f\"file{file}\")"
   ]
  }
 ],
 "metadata": {
  "kernelspec": {
   "display_name": "workshopvenv",
   "language": "python",
   "name": "python3"
  },
  "language_info": {
   "codemirror_mode": {
    "name": "ipython",
    "version": 3
   },
   "file_extension": ".py",
   "mimetype": "text/x-python",
   "name": "python",
   "nbconvert_exporter": "python",
   "pygments_lexer": "ipython3",
   "version": "3.11.6"
  }
 },
 "nbformat": 4,
 "nbformat_minor": 2
}
